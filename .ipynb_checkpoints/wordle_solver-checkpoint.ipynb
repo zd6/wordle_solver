{
 "cells": [
  {
   "cell_type": "markdown",
   "id": "3afdbd68",
   "metadata": {},
   "source": [
    "## Initialization Block"
   ]
  },
  {
   "cell_type": "code",
   "execution_count": 4,
   "id": "4644dd92",
   "metadata": {},
   "outputs": [],
   "source": [
    "import csv\n",
    "from collections import defaultdict\n",
    "candidates = []\n",
    "freq = defaultdict(int)\n",
    "count = 0\n",
    "with open(\"unigram_freq.csv\", newline=\"\") as f:\n",
    "    reader = csv.reader(f)\n",
    "    header = next(reader)\n",
    "    for row in reader:\n",
    "        if count >= 5000:\n",
    "            break\n",
    "        if len(row[0]) == 5 and row[0].isalpha():\n",
    "            candidates.append(row[0])\n",
    "            freq[row[0]] = int(row[1])\n",
    "            count += 1\n",
    "stat = defaultdict(set)\n",
    "for candidate in candidates[:5000]:\n",
    "    for letter in \"abcdefghijklmnopqrstuvwxyz\":\n",
    "        if letter in candidate:\n",
    "            stat[letter].add(candidate)\n",
    "        for pos in range(5):\n",
    "            if candidate[pos] == letter:\n",
    "                stat[\"\".join([letter, str(pos)])].add(candidate)\n",
    "stat[\"\"] = set(candidates)\n",
    "def minusOp(total, negs, stat):\n",
    "    for neg in negs:\n",
    "        total -= stat[neg]\n",
    "    return total\n",
    "def knownOp(conds, stat):\n",
    "    if not conds:\n",
    "        return set(stat[\"\"])\n",
    "    total = set(stat[conds[0]])\n",
    "    for cond in conds[1:]:\n",
    "        total &= stat[cond]\n",
    "    return total\n",
    "    \n",
    "def apply_cond(stat, knowns, negs):\n",
    "    cand = knownOp(knowns, stat)\n",
    "    cand = minusOp(cand, negs, stat)\n",
    "    return cand\n"
   ]
  },
  {
   "cell_type": "markdown",
   "id": "7eb8ec35",
   "metadata": {},
   "source": [
    "## Solver Block"
   ]
  },
  {
   "cell_type": "code",
   "execution_count": null,
   "id": "76cadbe7",
   "metadata": {},
   "outputs": [
    {
     "name": "stdout",
     "output_type": "stream",
     "text": [
      "Given your prompts in this manner: color [Black Yellow Green Black Green] = _*^_^\n",
      "What did you put: react\n",
      "What is the returned: ^_*__\n",
      "Your best shots are  ['radio', 'royal', 'rural', 'rapid', 'roman', 'radar', 'ralph', 'rally', 'randy', 'ranks', 'rails', 'rival', 'rabbi', 'razor', 'rainy', 'rains', 'rowan', 'ramon', 'ramps', 'raids', 'radon', 'ramos', 'raman', 'rayon', 'randi', 'ranma', 'ronan', 'raoul', 'rambo', 'rolla', 'rabid', 'radii', 'rahul', 'radix', 'rohan', 'rabin', 'rawls', 'rosas', 'rdram', 'ragga', 'ronda', 'ryman', 'rhoda']\n",
      "What did you put: rapid\n"
     ]
    }
   ],
   "source": [
    "def solver():\n",
    "    print(\"Given your prompts in this manner: color [Black Yellow Green Black Green] = _*^_^\")\n",
    "    print(\"Type 'exit' in guess input to exit.\")\n",
    "    conds = set()\n",
    "    negs = set()\n",
    "    while True:\n",
    "        guess = input(\"What did you put(guess): \")\n",
    "        result = input(\"What is the returned(result): \")\n",
    "        if guess == \"exit\" or result == \"*****\":\n",
    "            break\n",
    "        for i, (g, elem) in enumerate(zip(guess, result)):\n",
    "            if elem == \"_\":\n",
    "                negs.add(g)\n",
    "            elif elem == \"*\":\n",
    "                negs.add(\"\".join([g,str(i)]))\n",
    "                conds.add(g)\n",
    "            else:\n",
    "                conds.add(\"\".join([g,str(i)]))\n",
    "        maybe = apply_cond(stat, list(conds), list(negs))\n",
    "        maybe = sorted(list(maybe), key=lambda k:-freq[k])\n",
    "        print(\"Your best shots are \", maybe)\n",
    "solver()"
   ]
  },
  {
   "cell_type": "markdown",
   "id": "2d3a483f",
   "metadata": {},
   "source": [
    "## Play Block"
   ]
  },
  {
   "cell_type": "code",
   "execution_count": 16,
   "id": "66560600",
   "metadata": {},
   "outputs": [
    {
     "name": "stdout",
     "output_type": "stream",
     "text": [
      "Type 'I give up' to end game. Type 'Show hints' to reveal hints\n",
      "Your guess: react\n",
      "__AcT\n",
      "Your guess: Show hints\n",
      "['coast', 'chant', 'scant']\n",
      "Your guess: chant\n",
      "C_A_T\n",
      "Your guess: I give up\n",
      "Try next time! The answer is coast.\n"
     ]
    }
   ],
   "source": [
    "import random\n",
    "def play(ans = None):\n",
    "    print(\"Type 'I give up' to end game.\")\n",
    "    print(\"Type 'Show hints' to reveal hints\")\n",
    "    if not ans:\n",
    "        ans = random.choice(candidates)\n",
    "    conds = set()\n",
    "    negs = set()\n",
    "    guess = \"\"\n",
    "    magic_words = [\"I give up\", \"Show hints\"]\n",
    "    while guess != ans:\n",
    "        while True:\n",
    "            guess = input(\"Your guess: \")\n",
    "            if guess in stat[\"\"] or guess in magic_words :\n",
    "                break\n",
    "            else:\n",
    "                print(\"Not valid input, must be an English word or magic words\")\n",
    "        if guess == \"I give up\":\n",
    "            break\n",
    "        if guess == \"Show hints\":\n",
    "            print(maybe)\n",
    "            continue\n",
    "        guess.lower()\n",
    "        maybe, negs, conds, prompt = step(stat, guess, ans, negs, conds)\n",
    "        print(prompt)\n",
    "    if guess == ans:\n",
    "        print(\"You got it! It is \" + ans + \".\")\n",
    "    else:\n",
    "        print(\"Try next time! The answer is \" + ans + \".\")\n",
    "    \n",
    "def step(stat, guess, ans, negs, conds):\n",
    "    prompt = \"\"\n",
    "    for i in range(5):\n",
    "        if guess[i] == ans[i]:\n",
    "            prompt += guess[i].capitalize()\n",
    "            conds.add(\"\".join([guess[i],str(i)]))\n",
    "        elif guess[i] in ans:\n",
    "            prompt += guess[i]\n",
    "            conds.add(guess[i])\n",
    "            negs.add(\"\".join([guess[i],str(i)]))\n",
    "        else:\n",
    "            negs.add(guess[i])\n",
    "            prompt += \"_\"\n",
    "#         print(conds, negs)\n",
    "    maybe = apply_cond(stat, list(conds), list(negs))\n",
    "    maybe = sorted(list(maybe), key=lambda k:-freq[k])[:50]\n",
    "    return maybe, negs, conds, prompt\n",
    "\n",
    "play()"
   ]
  },
  {
   "cell_type": "code",
   "execution_count": 17,
   "id": "637815ef",
   "metadata": {},
   "outputs": [
    {
     "name": "stderr",
     "output_type": "stream",
     "text": [
      "100%|██████████████████████████████████████████████████████████████████████████| 10000/10000 [00:04<00:00, 2251.49it/s]\n"
     ]
    },
    {
     "name": "stdout",
     "output_type": "stream",
     "text": [
      "4.3253\n"
     ]
    },
    {
     "data": {
      "image/png": "[encoded data removed]",
      "text/plain": [
       "<Figure size 432x288 with 1 Axes>"
      ]
     },
     "metadata": {
      "needs_background": "light"
     },
     "output_type": "display_data"
    }
   ],
   "source": [
    "from tqdm import tqdm\n",
    "import matplotlib.pyplot as plt\n",
    "def experiment(policy = lambda maybe, knows: random.choice(maybe)):\n",
    "    num_exp = 10000\n",
    "    steps_token = []\n",
    "    for i in tqdm(range(num_exp)):\n",
    "        guess = \"ideal\"\n",
    "        ans = random.choice(candidates)\n",
    "#         print(guess, ans)\n",
    "        conds = set()\n",
    "        negs = set()\n",
    "        steps = 1\n",
    "        while guess != ans:\n",
    "            maybe, negs, conds, prompt = step(stat, guess, ans, negs, conds)\n",
    "#             print(prompt, maybe, ans)\n",
    "            guess = policy(maybe, (negs, conds))\n",
    "#             print(guess)\n",
    "            steps += 1\n",
    "        steps_token.append(steps)\n",
    "#         print(len(stat[\"\"]))\n",
    "    print(sum(steps_token)/num_exp)\n",
    "    plt.hist(steps_token)\n",
    "    plt.show()\n",
    "experiment()"
   ]
  },
  {
   "cell_type": "code",
   "execution_count": null,
   "id": "7a36c4e3",
   "metadata": {},
   "outputs": [],
   "source": []
  }
 ],
 "metadata": {
  "kernelspec": {
   "display_name": "Python 3 (ipykernel)",
   "language": "python",
   "name": "python3"
  },
  "language_info": {
   "codemirror_mode": {
    "name": "ipython",
    "version": 3
   },
   "file_extension": ".py",
   "mimetype": "text/x-python",
   "name": "python",
   "nbconvert_exporter": "python",
   "pygments_lexer": "ipython3",
   "version": "3.9.7"
  }
 },
 "nbformat": 4,
 "nbformat_minor": 5
}
